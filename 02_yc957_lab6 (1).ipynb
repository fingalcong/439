{
 "cells": [
  {
   "cell_type": "markdown",
   "metadata": {},
   "source": [
    "<div class=\"alert alert-block alert-info\">\n",
    "<h3>Student Information</h3> Please provide information about yourself.<br>\n",
    "<b>Name</b>:Yinfeng Cong<br>\n",
    "<b>NetID</b>:yc957<br>\n",
    "<b>Recitation (1/2/3)</b>:02<br>\n",
    "<b>Notes to Grader</b> (optional):<br>\n",
    "<br><br>\n",
    "<b>IMPORTANT</b>\n",
    "Your work will not be graded withour your initials below<br>\n",
    "I certify that this lab represents my own work and I have read the RU academic intergrity policies at<br>\n",
    "<a href=\"https://www.cs.rutgers.edu/academic-integrity/introduction\">https://www.cs.rutgers.edu/academic-integrity/introduction </a><br>\n",
    "<b>Initials</b>:YC      (eg: DC for Dingbang Chen)\n",
    "\n",
    "\n",
    "<h3>Grader Notes</h3>\n",
    "<b>Your Grade<b>:<br>\n",
    "<b>Grader Initials</b>:<br>\n",
    "<b>Grader Comments</b> (optional):<br>\n",
    "</div>\n",
    "\n",
    "### CS 439 - Introduction to Data Science\n",
    "### Spring 2022\n",
    "\n",
    "# Lab 6: Image Processing\n",
    "\n",
    "### Due Date : Monday May 02, 2022 by 11:59 PM.\n",
    "\n",
    "\n",
    "### About the Lab\n",
    "Any given image can be considered as a matrix of pixels where each pixel contains (R,G,B) values between 0-255. Each color is represented as an unsigned 8-bit integer. In this lab, we will learn how to read an image into an ndarray or data frame and manipulate that Frame to do some interesting operations on the image. We will also learn how to do low rank estimations using Singular Value Decomposition. You will learn how to find a low rank estimations for a given image and use concepts such as Singular Value Decomposition and/or Principal Component Analysis (PCA) to understand more about the image structure.\n"
   ]
  },
  {
   "cell_type": "markdown",
   "metadata": {},
   "source": [
    "## Part 1 - Pre-processing of an image  (15 points)\n",
    "In this part of the lab, we learn how to read an image into a ndarray and manipulate them using various techniques. So let's get started. First to make things simpler, we will initialize the two test images that you can test the code with. As a starter, you are provided with the images, guna-2014.jpg and robot.jpg, but you are encouraged to test the code with many different jpg images.\n",
    "\n",
    "IMPORTANT: The row and column dimensions of the two images must be the same. If not, you can use paint or other tools to rescale your test images."
   ]
  },
  {
   "cell_type": "code",
   "execution_count": null,
   "metadata": {},
   "outputs": [],
   "source": [
    "# This will help test the code with different test images\n",
    "image1 = 'data/guna_2014.jpg'\n",
    "image2 = 'data/robot_2.jpg'"
   ]
  },
  {
   "cell_type": "markdown",
   "metadata": {},
   "source": [
    "### Task 1.1  Reading the image\n",
    "In this first task, we would like you to read any jpg image into an ndarray using matplotlib.image.imread. Using matplotlib.pyplot.plt.imshow, you should be able to show the image on your notebook. Also print the dimensions of the image and type of the image in the notebook as shown. Please use your own image and other images for testing this. We will use many random images to see if your algorithm is correct. Both images must be the same dimensions."
   ]
  },
  {
   "cell_type": "code",
   "execution_count": null,
   "metadata": {},
   "outputs": [],
   "source": [
    "import matplotlib.pyplot as plt\n",
    "import matplotlib.image as mpimg\n",
    "import numpy as np\n",
    "\n",
    "### BEGIN SOLUTION\n",
    "img = mpimg.imread(image1)\n",
    "plt.imshow(img)\n",
    "print(type(img))\n",
    "print(img.shape)\n",
    "\n",
    "\n",
    "### END SOLUTION"
   ]
  },
  {
   "cell_type": "markdown",
   "metadata": {},
   "source": [
    "### Task 1.2 Splitting the image into Red, Green and Blue portions.\n",
    "The shape and type of the image should indicate that it is a 3D ndarray (row,col,color). The color is an array (R,G,B) where each color is represented by 1 byte (unsigned with range 0-225). In order to perform matrix operatins, we need to split the image into Red, Green and Blue components. Note that you still need to keep the image as a 3D array to plot. But you can make two of the component zero when plotting a specific color. Write the code to split the image into R, G and B and show the images as shown below."
   ]
  },
  {
   "cell_type": "markdown",
   "metadata": {},
   "source": [
    "#### Red image"
   ]
  },
  {
   "cell_type": "code",
   "execution_count": null,
   "metadata": {},
   "outputs": [],
   "source": [
    "## TASK 1.2.1 Display the image using only the RED pixel values\n",
    "## BEGIN SOLUTION\n",
    "dimension = img.shape\n",
    "img1 = np.zeros(dimension,int)\n",
    "for i in range(dimension[0]):\n",
    "    for j in range(dimension[1]):\n",
    "        img1[i][j][0] = img[i][j][0]\n",
    "imgplot = plt.imshow(img1)\n",
    "## END SOLUTION"
   ]
  },
  {
   "cell_type": "markdown",
   "metadata": {},
   "source": [
    "#### Green image"
   ]
  },
  {
   "cell_type": "code",
   "execution_count": null,
   "metadata": {},
   "outputs": [],
   "source": [
    "## TASK 1.2.2 Display the image using only the GREEN pixel values\n",
    "## BEGIN SOLUTION\n",
    "img2 = np.zeros(dimension, int)\n",
    "for i in range(dimension[0]):\n",
    "    for j in range(dimension[1]):\n",
    "        img2[i][j][1] =  img[i][j][1]\n",
    "imgplot = plt.imshow(img2)\n",
    "\n",
    "## END SOLUTION"
   ]
  },
  {
   "cell_type": "markdown",
   "metadata": {},
   "source": [
    "#### Blue image"
   ]
  },
  {
   "cell_type": "code",
   "execution_count": null,
   "metadata": {},
   "outputs": [],
   "source": [
    "## TASK 1.2.3 Display the image using only the BLUE pixel values\n",
    "## BEGIN SOLUTION\n",
    "img3 = np.zeros(dimension, int)\n",
    "for i in range(dimension[0]):\n",
    "    for j in range(dimension[1]):\n",
    "        img3[i][j][2] = img[i][j][2]\n",
    "imgplot = plt.imshow(img3)\n",
    "\n",
    "## END SOLUTION"
   ]
  },
  {
   "cell_type": "markdown",
   "metadata": {},
   "source": [
    "## Part 2 - Transforming images  (15 points)\n",
    "In this part, we will use linear combinations of two images to transform one image to another. Given two images A and B, define a linear combination of the images as : p.A + (1-p).B  where p is a value (think of p as a probability) between 0 and 1. For example, if p = 0, then we only show image B, and if p=1, then we only show image A. For all other values of p, the two images are transposed on each other. When p is closer to 0, you will mostly notice image B, and if p is closer to 1, you will mostly notice image A. When p is in the middle, the intensity of the pixles will be equally divided between the two images.\n",
    "In this case, define the matrix p A as, each entry of A is multiplied (or scaled by) p"
   ]
  },
  {
   "cell_type": "markdown",
   "metadata": {},
   "source": [
    "### Task 2.1\n",
    "First we will learn how to scale an image by some value p that is between 0 and 1. Write the code to form the matrix p.A for any p, and plot the image. Start with p=0.5 and change it to see how the intensity of the image changes."
   ]
  },
  {
   "cell_type": "code",
   "execution_count": null,
   "metadata": {},
   "outputs": [],
   "source": [
    "import numpy as np\n",
    "\n",
    "## BEGIN SOLUTION\n",
    "p = 0.5\n",
    "img4 = np.zeros(dimension, int)\n",
    "for i in range(dimension[0]):\n",
    "    for j in range(dimension[1]):\n",
    "        for k in range(dimension[2]):\n",
    "            img4[i][j][k]= img[i][j][k]*p\n",
    "imgplot = plt.imshow(img4)\n",
    "\n",
    "   \n",
    "\n",
    "## END SOLUTION"
   ]
  },
  {
   "cell_type": "markdown",
   "metadata": {},
   "source": [
    "### Task 2.2 Reading the second image and scaling\n",
    "Use image2 to form the matrix (1-p).B for any p, and plot. Start with p=0.5 and change it (increase/decrease) between 0 and 1 to see how the intensity of the image changes. What if p > 1 or p < 0 ? How will you interpret it?  Also show the type of array and dimensions to make sure both images have the same dimensions (in order to superimpose of them properly)"
   ]
  },
  {
   "cell_type": "code",
   "execution_count": null,
   "metadata": {},
   "outputs": [],
   "source": [
    "## BEGIN SOLUTION\n",
    "p = 0.5\n",
    "imgrobot = mpimg.imread(image2)\n",
    "imgrobot1 = np.zeros(dimension, int)\n",
    "for i in range(dimension[0]):\n",
    "    for j in range(dimension[1]):\n",
    "        for k in range(dimension[2]):\n",
    "            imgrobot1[i][j][k] = imgrobot[i][j][k] *(1-p)\n",
    "            \n",
    "imgplot = plt.imshow(imgrobot1)\n",
    "print(type(imgrobot1))\n",
    "print(imgrobot1.shape)\n",
    "\n",
    "#Answer: if p > 1, the image will be all darkness. If p < 0, the image will lose some details. \n",
    "#Because if p > 1, no image will be shown, and if p < 0, the image will be over exposed.\n",
    "\n",
    "## END SOLUTION"
   ]
  },
  {
   "cell_type": "markdown",
   "metadata": {},
   "source": [
    "### Task 2.3 overlay images on each other. \n",
    "Overlay the two images and plot the combined image again. The matrix addition can help here."
   ]
  },
  {
   "cell_type": "code",
   "execution_count": null,
   "metadata": {},
   "outputs": [],
   "source": [
    "## BEGIN SOLUTION\n",
    "twoimg = np.zeros(dimension, int)\n",
    "twoimg = img4 + imgrobot1\n",
    "img_plot = plt.imshow(twoimg)\n",
    "## END SOLUTION"
   ]
  },
  {
   "cell_type": "markdown",
   "metadata": {},
   "source": [
    "### Task 2.4 Interactive panel design\n",
    "Now we will use a widget to create an interactive panel that will allow you to experiment with the superimposed images."
   ]
  },
  {
   "cell_type": "code",
   "execution_count": null,
   "metadata": {},
   "outputs": [],
   "source": [
    "# Initialize the widget\n",
    "from ipywidgets import interact\n",
    "!jupyter nbextension enable --py widgetsnbextension"
   ]
  },
  {
   "cell_type": "markdown",
   "metadata": {},
   "source": [
    "### Define a function f \n",
    "The function f, takes alpha (which we called p before) and allow you to experiment with how the superimposed images changes as alpha changes. You will be able to drag the value between 0 and 1 to see how things change. With alpha = 0, you will get only one image, and with alpha = 1, you will get only the other image. The values of alpha between 0 and 1 will produce an image with varying domination by one image. Alpha = 0.5 is the equilibrium point, where each image is weighed equally."
   ]
  },
  {
   "cell_type": "code",
   "execution_count": null,
   "metadata": {},
   "outputs": [],
   "source": [
    "##  BEGIN SOLUTION\n",
    "def f(alpha):\n",
    "                \n",
    "    for i in range(dimension[0]):\n",
    "        for j in range(dimension[1]):\n",
    "            for k in range(dimension[2]):\n",
    "                img4[i][j][k]= img[i][j][k]*alpha\n",
    "                \n",
    "    for i in range(dimension[0]):\n",
    "        for j in range(dimension[1]):\n",
    "            for k in range(dimension[2]):\n",
    "                imgrobot1[i][j][k] = imgrobot[i][j][k] *(1-alpha)\n",
    "    \n",
    "    imgcom = np.zeros(dimension, int)\n",
    "    imgcom = img4 + imgrobot1\n",
    "    imgplot1 = plt.imshow(imgcom) \n",
    "##  END SOLUTION\n",
    "    \n",
    "interact(f, alpha=(0,1,0.1));\n"
   ]
  },
  {
   "cell_type": "markdown",
   "metadata": {},
   "source": [
    "## Part 3 - Application of Singular Value Decomposition  (15 points)\n",
    "Singular value decomposition or SVD allows us to approximate the image using fewer bits of information about the structure of the image matrix. A readings on this method can be found from an excerpt of the <a href=\"https://www.abebooks.co.uk/servlet/BookDetailsPL?bi=30572579750&searchurl=an%3Dananda%2Bgunawardena%2Bsurender%2Bjain%26sortby%3D20%26tn%3Dlinear%2Balgebra%2Binteractive%2Bapproach&cm_sp=snippet-_-srp1-_-title1\" target=\"_blank\"> linear algebra book by Jain and Gunawardena.</a> <img src=\"https://pictures.abebooks.com/isbn/9780534409159-uk-300.jpg\" height=200 width=100>\n",
    "\n",
    "The singular value decomposition allows us to approximate a matrix using its decomposition into three matrices A = U S V^T\n",
    "where U and V are orthogonal matrices and S is a diagonal matrix with singular values (V^T indicates the transpose of matrix V). The singular values are the eigen values of the matrix A A^T."
   ]
  },
  {
   "cell_type": "markdown",
   "metadata": {},
   "source": [
    "### Task 3.1 Representation of matrices as 2D\n",
    "Prior to applying SVD to our image matrix, we need to transform the individual 3D matrices into 2D matrices. Basically, we can view any color component as color densities of one color and ignore the color dimension when we are transforming from 3D to 2D."
   ]
  },
  {
   "cell_type": "code",
   "execution_count": null,
   "metadata": {},
   "outputs": [],
   "source": [
    "# transform the RED, GREEN, BLUE matrices into a 2D matrices of red, green, blue color density\n",
    "# BEGIN SOLUTION\n",
    "# create three 2D matrices (int type) each for colors, R, G, B. Be sure to match the \n",
    "# dimensions of the image matrix\n",
    "R = np.zeros((dimension[0],dimension[1]),int)\n",
    "G = np.zeros((dimension[0],dimension[1]),int)\n",
    "B = np.zeros((dimension[0],dimension[1]),int) \n",
    "\n",
    "# copy the corresponding values from 3D image matrix\n",
    "for i in range(dimension[0]):\n",
    "    R[i,:] = img[i,:,0]\n",
    "    G[i,:] = img[i, :, 1]\n",
    "    B[i,:] = img[i, :, 2]\n",
    "\n",
    "# END SOLUTION\n",
    "\n",
    "print(R, G, B)"
   ]
  },
  {
   "cell_type": "markdown",
   "metadata": {},
   "source": [
    "### Task 3.1 Finding Singular values and Orthogonal matrices\n",
    "Find the singular value decomposition of matrices R, G, B. List the singular values (S) and the orthogonal matrices (U, V) for colors R,G,B as (UR,sR, VhR), (UG,sG, VhG), (UB,sB, VhB).  "
   ]
  },
  {
   "cell_type": "code",
   "execution_count": null,
   "metadata": {},
   "outputs": [],
   "source": [
    "from scipy import linalg\n",
    "# BEGIN SOLUTION\n",
    "UR, sR, VhR = linalg.svd(R)\n",
    "UG, sG, VhG = linalg.svd(G)\n",
    "UB, sB, VhB = linalg.svd(B)\n",
    "# END SOLUTION\n",
    "print(sR, sG, sB)"
   ]
  },
  {
   "cell_type": "markdown",
   "metadata": {},
   "source": [
    "### Task 3.2 Finding a rank-1 approximation\n",
    "A rank 1 approximation (starting with the highest eigenvalue lambda_1) \n",
    "can be done using $\\lambda_{1}*u_1*v_1^T$ where $u_1$ and $v_1$ are column vectors. These column vectors are the first columns of the orthogonal matrices U and V, that are part of the SVD. We note that the multiplication of a column vector by a row vector in fact produces an approximated matrix."
   ]
  },
  {
   "cell_type": "code",
   "execution_count": null,
   "metadata": {},
   "outputs": [],
   "source": [
    "## Find the rank-1 approximation and show the image generated by it.\n",
    "## BEGIN SOLUTION\n",
    "rank1_approx_R = UR[:,0].reshape(len(UR[:,0]),1) * sR[0] * VhR[0,:]\n",
    "rank1_approx_G = UG[:,0].reshape(len(UG[:,0]),1) * sG[0] * VhG[0,:]\n",
    "rank1_approx_B = UB[:,0].reshape(len(UB[:,0]),1) * sB[0] * VhB[0,:]\n",
    "\n",
    "rank1_appro = np.zeros(dimension, int)\n",
    "\n",
    "for i in range(dimension[0]):\n",
    "    rank1_appro[i,:,0] = rank1_approx_R[i,:]\n",
    "    rank1_appro[i,:,1] = rank1_approx_G[i,:]\n",
    "    rank1_appro[i,:,2] = rank1_approx_B[i,:]\n",
    "\n",
    "plt.imshow(rank1_appro)\n",
    "## END SOLUTION"
   ]
  },
  {
   "cell_type": "markdown",
   "metadata": {},
   "source": [
    "### Task 3.2 Finding a rank-2 approximation\n",
    "A rank 2 approximation add another term to the rank_1 approximation as follows. If the second largest eigen value is lambda_2, then we have the approximation as  $\\lambda_{1}*u_1*v_1^T + \\lambda_{2}*u_2*v_2^T$ where $u_1, u_2$ and $v_1, v_2$ are column vectors"
   ]
  },
  {
   "cell_type": "code",
   "execution_count": null,
   "metadata": {},
   "outputs": [],
   "source": [
    "## Find the rank-2 approximation and show the image generated by it.\n",
    "## BEGIN SOLUTION\n",
    "rank2_appro_R = UR[:, 1].reshape(len(UR[:, 0]), 1) * sR[1] * VhR[1, :]\n",
    "rank2_appro_G = UG[:, 1].reshape(len(UG[:, 0]), 1) * sG[1] * VhG[1, :]\n",
    "rank2_appro_B = UB[:, 1].reshape(len(UB[:, 0]), 1) * sB[1] * VhB[1, :]\n",
    "\n",
    "rank2_appro = np.zeros(dimension, int)\n",
    "\n",
    "for i in range(dimension[0]):\n",
    "    rank2_appro[i,:,0] = rank1_approx_R[i,:] + rank2_appro_R[i,:] \n",
    "    rank2_appro[i,:,1] = rank1_approx_G[i,:] + rank2_appro_G[i,:]\n",
    "    rank2_appro[i,:,2] = rank1_approx_B[i,:] + rank2_appro_B[i,:]\n",
    "\n",
    "plt.imshow(rank2_appro)\n",
    "## END SOLUTION"
   ]
  },
  {
   "cell_type": "markdown",
   "metadata": {},
   "source": [
    "### Task 3.2 Finding a rank-k approximation\n",
    "A rank k approximation is the sum of first k-terms of rank approximations. For example, if u[i] and v[i] are the i-th column vectors, and lambda_i is the i-th largest eigen value, then we have the approximation as \n",
    "$ \\sum \\lambda_{i}*u_i*v_i^T, i=1,2,...k$\n",
    "Start with any k (including k=1 and k=2) to see if you get the same outcomes as above, and then changing it until you get a clearer image. You can play with k to see which one gives you a better approximation. The following is the image when k = 10"
   ]
  },
  {
   "cell_type": "code",
   "execution_count": null,
   "metadata": {},
   "outputs": [],
   "source": [
    "## Find the rank-k approximation and show the image generated by it.\n",
    "## BEGIN SOLUTION\n",
    "indices = np.argsort(-sB)\n",
    "\n",
    "UG_sorted = UG[:,indices]\n",
    "VhG_sorted = VhG[indices,:]\n",
    "sG_sorted = sG[indices]\n",
    "\n",
    "UR_sorted = UR[:,indices]\n",
    "VhR_sorted = VhR[indices,:]\n",
    "sR_sorted = sR[indices]\n",
    "\n",
    "UB_sorted = UB[:,indices]\n",
    "VhB_sorted = VhB[indices,:]\n",
    "sB_sorted = sB[indices]\n",
    "\n",
    "k = 10\n",
    "img_rank_10R = UR_sorted[:,:k] @ np.diag(sR_sorted[:k]) @ VhR[:k,:]  \n",
    "img_rank_10G = UG_sorted[:,:k] @ np.diag(sG_sorted[:k]) @ VhG[:k,:]\n",
    "img_rank_10B = UB_sorted[:,:k] @ np.diag(sB_sorted[:k]) @ VhB[:k,:]\n",
    "\n",
    "img_rank_10_rgb = np.zeros(dimension, int)\n",
    "img_rank_10_rgb[:,:,0] = img_rank_10R\n",
    "img_rank_10_rgb[:,:,1] = img_rank_10G\n",
    "img_rank_10_rgb[:,:,2] = img_rank_10B\n",
    "\n",
    "plt.imshow(img_rank_10_rgb)\n",
    "## END SOLUTION"
   ]
  },
  {
   "cell_type": "markdown",
   "metadata": {},
   "source": [
    "## Part 4 - Clustering Images Using K-Means  (points 15)\n",
    "In this method we will use the 1700+ low resolution 8x8 images from sklearn and apply k-means algorithm to find how well it can group/cluster into similar digits. "
   ]
  },
  {
   "cell_type": "code",
   "execution_count": null,
   "metadata": {},
   "outputs": [],
   "source": [
    "# install scikit-learn - ONLY ONCE\n",
    "!pip install scikit-learn"
   ]
  },
  {
   "cell_type": "markdown",
   "metadata": {},
   "source": [
    "### Load digits and visualize\n",
    "Load the digits from sklearn into an image array. Print some digits. "
   ]
  },
  {
   "cell_type": "code",
   "execution_count": null,
   "metadata": {},
   "outputs": [],
   "source": [
    "from sklearn.datasets import load_digits\n",
    "digits = load_digits()\n",
    "print(digits.data.shape)\n",
    "import matplotlib.pyplot as plt\n",
    "plt.gray()\n",
    "plt.matshow(digits.images[100])\n",
    "plt.show()"
   ]
  },
  {
   "cell_type": "markdown",
   "metadata": {},
   "source": [
    "### Task 4.1  Implement k-means algorithm\n",
    "Implement k-means as shown in lecture notes. "
   ]
  },
  {
   "cell_type": "code",
   "execution_count": null,
   "metadata": {},
   "outputs": [],
   "source": [
    "## BEGIN SOLUTION\n",
    "def kmeans(X,k,max_iter=10):\n",
    "    Mu = X[np.random.choice(X.shape[0],k),:]\n",
    "    for i in range(max_iter):\n",
    "        D = -2*X@Mu.T + (X**2).sum(axis=1)[:,None] + (Mu**2).sum(axis=1)\n",
    "        C = np.eye(k)[np.argmin(D,axis=1),:]\n",
    "        Mu = (C.T @ X)/np.sum(C,axis=0)[:,None]\n",
    "    loss = np.linalg.norm(X - Mu[np.argmin(D,axis=1),:])**2\n",
    "    return Mu, C, loss\n",
    "\n",
    "## END SOLUTION"
   ]
  },
  {
   "cell_type": "markdown",
   "metadata": {},
   "source": [
    "### Task 4.2  Flatten the 2D images\n",
    "The original images are 8x8 images. Flatten them to represent them as dimension 64 vectors. "
   ]
  },
  {
   "cell_type": "code",
   "execution_count": null,
   "metadata": {},
   "outputs": [],
   "source": [
    "## BEGIN SOLUTION\n",
    "new_digit = digits.images[100].flatten()\n",
    "#new_digit\n",
    "## END SOLUTION"
   ]
  },
  {
   "cell_type": "code",
   "execution_count": null,
   "metadata": {},
   "outputs": [],
   "source": [
    "#digits.data\n",
    "Mu = (10,64)\n",
    "y = (1797,10)\n",
    "loss = 1266905.4644588488"
   ]
  },
  {
   "cell_type": "markdown",
   "metadata": {},
   "source": [
    "# Task 4.3  Apply k-means to obtain k clusters\n",
    "Note that the cluster centers are the approximate images. Vary k from 10 to 50 (in increments of 10 to see a reasonable cluster size). Print the cluster centers for each k to see how well they differentiate the images."
   ]
  },
  {
   "cell_type": "code",
   "execution_count": null,
   "metadata": {},
   "outputs": [],
   "source": [
    "## BEGIN SOLUTION\n",
    "[MU,Y,Loss] = kmeans(digits.images[100],10,max_iter = 10)\n",
    "print(Mu)\n",
    "print(y)\n",
    "print(loss)\n",
    "## END SOLUTION"
   ]
  },
  {
   "cell_type": "code",
   "execution_count": null,
   "metadata": {},
   "outputs": [],
   "source": [
    "# Reshape cluster centers in Mu back to 8x8 matrices and print them\n",
    "## BEGIN SOLUTION\n",
    "dd = new_digit.reshape(1797,64)\n",
    "\n",
    "\n",
    "## End SOLUTION"
   ]
  },
  {
   "cell_type": "markdown",
   "metadata": {},
   "source": [
    "### Task 4.4  Observations\n",
    "What sort of observations do you make as you vary the cluster size from 10 to 50. Answer following questions.\n",
    "1. Does using 10 clusters give you a clear separation of the digits 0-9?  If not whY?\n",
    "No,for the reason that the clusters are not much enough, so the seperation would not be accurately given.\n",
    "2. What is a good k (k=10, 20, .., 50) to see the representation of all digits?\n",
    "50"
   ]
  },
  {
   "cell_type": "markdown",
   "metadata": {},
   "source": [
    "#### BEGIN SOLUTION\n",
    "\n",
    "#### END SOLUTION"
   ]
  },
  {
   "cell_type": "markdown",
   "metadata": {},
   "source": [
    "### Feedback\n",
    "Please provide feedback on this lab.\n",
    "* how would you rate this lab (from 1-10, 10-highest) :\n",
    "* how can we improve his lab? :"
   ]
  },
  {
   "cell_type": "markdown",
   "metadata": {},
   "source": [
    "<div class=\"alert alert-block alert-info\">\n",
    "<h2>Submission Instructions</h2> \n",
    "<b> File Name:</b> Please name the file as your_section_your_netID_Lab6.jpynb<br>\n",
    "<b> Submit To: </b> Canvas &rarr; Assignments &rarr; Lab6 <br>\n",
    "<b>Warning:</b> Failure to follow directions may result in loss points.<br>\n",
    "</div>"
   ]
  },
  {
   "cell_type": "markdown",
   "metadata": {},
   "source": [
    "##### Lab developed by A.D. Gunawardena @ 2022      ---           @All Rights Reserved     ---                DO not share this lab"
   ]
  }
 ],
 "metadata": {
  "kernelspec": {
   "display_name": "Python 3 (ipykernel)",
   "language": "python",
   "name": "python3"
  },
  "language_info": {
   "codemirror_mode": {
    "name": "ipython",
    "version": 3
   },
   "file_extension": ".py",
   "mimetype": "text/x-python",
   "name": "python",
   "nbconvert_exporter": "python",
   "pygments_lexer": "ipython3",
   "version": "3.9.7"
  }
 },
 "nbformat": 4,
 "nbformat_minor": 2
}
